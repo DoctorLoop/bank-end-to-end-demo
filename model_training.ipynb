{
 "cells": [
  {
   "cell_type": "code",
   "execution_count": 1,
   "id": "ecological-healing",
   "metadata": {
    "execution": {
     "iopub.execute_input": "2021-10-29T09:12:22.021285Z",
     "iopub.status.busy": "2021-10-29T09:12:22.020915Z",
     "iopub.status.idle": "2021-10-29T09:12:24.226387Z",
     "shell.execute_reply": "2021-10-29T09:12:24.225672Z",
     "shell.execute_reply.started": "2021-10-29T09:12:22.021217Z"
    },
    "tags": []
   },
   "outputs": [],
   "source": [
    "import sys,os\n",
    "\n",
    "sys.path.insert(0,'/home/ubuntu/notebooks/')\n",
    "\n",
    "from typing import Callable\n",
    "\n",
    "import pandas as pd\n",
    "import numpy as np\n",
    "\n",
    "import tensorflow as tf\n",
    "\n",
    "from tensorflow.keras.layers import IntegerLookup\n",
    "from tensorflow.keras.layers import Normalization\n",
    "from tensorflow.keras.layers import StringLookup"
   ]
  },
  {
   "cell_type": "code",
   "execution_count": 5,
   "id": "f9a5520d-425f-4daf-81ef-bc2f84f79eaa",
   "metadata": {
    "execution": {
     "iopub.execute_input": "2021-10-29T09:13:34.334090Z",
     "iopub.status.busy": "2021-10-29T09:13:34.333802Z",
     "iopub.status.idle": "2021-10-29T09:13:34.338536Z",
     "shell.execute_reply": "2021-10-29T09:13:34.337944Z",
     "shell.execute_reply.started": "2021-10-29T09:13:34.334069Z"
    },
    "tags": []
   },
   "outputs": [],
   "source": [
    "from server_api import parse"
   ]
  },
  {
   "cell_type": "code",
   "execution_count": null,
   "id": "medical-bronze",
   "metadata": {},
   "outputs": [
    {
     "data": {
      "text/plain": [
       "'2.6.0'"
      ]
     },
     "execution_count": 2,
     "metadata": {},
     "output_type": "execute_result"
    }
   ],
   "source": [
    "tf.__version__"
   ]
  },
  {
   "cell_type": "markdown",
   "id": "authentic-bachelor",
   "metadata": {},
   "source": [
    "# Tasks"
   ]
  },
  {
   "cell_type": "markdown",
   "id": "twelve-transparency",
   "metadata": {},
   "source": [
    "- Create an API endpoint which accepts a CSV file as the input via POST method\n",
    "\n",
    "\n",
    "- Load the data into a database of your choice\n",
    "\n",
    "\n",
    "- Create an ML model to predict the likelihood of a customer subscribing to a banking product. Note that this can be a very simple model, and the goal here is not to spend time on tweaking the model to achieve the best classification performance. \n",
    "\n",
    "\n",
    "- Create an API endpoint which accepts relevant parameters from a potential customer and returns the likelihood of them also subscribing to the product\n"
   ]
  },
  {
   "cell_type": "markdown",
   "id": "serial-saturn",
   "metadata": {},
   "source": [
    "# EDA and parsing of data"
   ]
  },
  {
   "cell_type": "code",
   "execution_count": 7,
   "id": "07f2f76c-2031-41ef-90e7-9d927a30ca83",
   "metadata": {
    "execution": {
     "iopub.execute_input": "2021-10-29T09:15:04.789769Z",
     "iopub.status.busy": "2021-10-29T09:15:04.789491Z",
     "iopub.status.idle": "2021-10-29T09:15:04.900532Z",
     "shell.execute_reply": "2021-10-29T09:15:04.899913Z",
     "shell.execute_reply.started": "2021-10-29T09:15:04.789748Z"
    },
    "tags": []
   },
   "outputs": [
    {
     "data": {
      "text/html": [
       "<div>\n",
       "<style scoped>\n",
       "    .dataframe tbody tr th:only-of-type {\n",
       "        vertical-align: middle;\n",
       "    }\n",
       "\n",
       "    .dataframe tbody tr th {\n",
       "        vertical-align: top;\n",
       "    }\n",
       "\n",
       "    .dataframe thead th {\n",
       "        text-align: right;\n",
       "    }\n",
       "</style>\n",
       "<table border=\"1\" class=\"dataframe\">\n",
       "  <thead>\n",
       "    <tr style=\"text-align: right;\">\n",
       "      <th></th>\n",
       "      <th>age</th>\n",
       "      <th>job</th>\n",
       "      <th>marital</th>\n",
       "      <th>education</th>\n",
       "      <th>default</th>\n",
       "      <th>balance</th>\n",
       "      <th>housing</th>\n",
       "      <th>loan</th>\n",
       "      <th>contact</th>\n",
       "      <th>day</th>\n",
       "      <th>month</th>\n",
       "      <th>duration</th>\n",
       "      <th>campaign</th>\n",
       "      <th>pdays</th>\n",
       "      <th>previous</th>\n",
       "      <th>poutcome</th>\n",
       "    </tr>\n",
       "  </thead>\n",
       "  <tbody>\n",
       "    <tr>\n",
       "      <th>0</th>\n",
       "      <td>58</td>\n",
       "      <td>4</td>\n",
       "      <td>1</td>\n",
       "      <td>2</td>\n",
       "      <td>0</td>\n",
       "      <td>2143</td>\n",
       "      <td>1</td>\n",
       "      <td>0</td>\n",
       "      <td>2</td>\n",
       "      <td>5</td>\n",
       "      <td>8</td>\n",
       "      <td>261</td>\n",
       "      <td>1</td>\n",
       "      <td>-1</td>\n",
       "      <td>0</td>\n",
       "      <td>3</td>\n",
       "    </tr>\n",
       "    <tr>\n",
       "      <th>1</th>\n",
       "      <td>44</td>\n",
       "      <td>9</td>\n",
       "      <td>2</td>\n",
       "      <td>1</td>\n",
       "      <td>0</td>\n",
       "      <td>29</td>\n",
       "      <td>1</td>\n",
       "      <td>0</td>\n",
       "      <td>2</td>\n",
       "      <td>5</td>\n",
       "      <td>8</td>\n",
       "      <td>151</td>\n",
       "      <td>1</td>\n",
       "      <td>-1</td>\n",
       "      <td>0</td>\n",
       "      <td>3</td>\n",
       "    </tr>\n",
       "    <tr>\n",
       "      <th>2</th>\n",
       "      <td>33</td>\n",
       "      <td>2</td>\n",
       "      <td>1</td>\n",
       "      <td>1</td>\n",
       "      <td>0</td>\n",
       "      <td>2</td>\n",
       "      <td>1</td>\n",
       "      <td>1</td>\n",
       "      <td>2</td>\n",
       "      <td>5</td>\n",
       "      <td>8</td>\n",
       "      <td>76</td>\n",
       "      <td>1</td>\n",
       "      <td>-1</td>\n",
       "      <td>0</td>\n",
       "      <td>3</td>\n",
       "    </tr>\n",
       "    <tr>\n",
       "      <th>3</th>\n",
       "      <td>47</td>\n",
       "      <td>1</td>\n",
       "      <td>1</td>\n",
       "      <td>3</td>\n",
       "      <td>0</td>\n",
       "      <td>1506</td>\n",
       "      <td>1</td>\n",
       "      <td>0</td>\n",
       "      <td>2</td>\n",
       "      <td>5</td>\n",
       "      <td>8</td>\n",
       "      <td>92</td>\n",
       "      <td>1</td>\n",
       "      <td>-1</td>\n",
       "      <td>0</td>\n",
       "      <td>3</td>\n",
       "    </tr>\n",
       "    <tr>\n",
       "      <th>4</th>\n",
       "      <td>33</td>\n",
       "      <td>11</td>\n",
       "      <td>2</td>\n",
       "      <td>3</td>\n",
       "      <td>0</td>\n",
       "      <td>1</td>\n",
       "      <td>0</td>\n",
       "      <td>0</td>\n",
       "      <td>2</td>\n",
       "      <td>5</td>\n",
       "      <td>8</td>\n",
       "      <td>198</td>\n",
       "      <td>1</td>\n",
       "      <td>-1</td>\n",
       "      <td>0</td>\n",
       "      <td>3</td>\n",
       "    </tr>\n",
       "  </tbody>\n",
       "</table>\n",
       "</div>"
      ],
      "text/plain": [
       "   age  job  marital  education  default  balance  housing  loan  contact  \\\n",
       "0   58    4        1          2        0     2143        1     0        2   \n",
       "1   44    9        2          1        0       29        1     0        2   \n",
       "2   33    2        1          1        0        2        1     1        2   \n",
       "3   47    1        1          3        0     1506        1     0        2   \n",
       "4   33   11        2          3        0        1        0     0        2   \n",
       "\n",
       "   day  month  duration  campaign  pdays  previous  poutcome  \n",
       "0    5      8       261         1     -1         0         3  \n",
       "1    5      8       151         1     -1         0         3  \n",
       "2    5      8        76         1     -1         0         3  \n",
       "3    5      8        92         1     -1         0         3  \n",
       "4    5      8       198         1     -1         0         3  "
      ]
     },
     "execution_count": 7,
     "metadata": {},
     "output_type": "execute_result"
    }
   ],
   "source": [
    "df, missing_cols = parse.parse_csv(\"bank-full.csv\")\n",
    "df.head()"
   ]
  },
  {
   "cell_type": "markdown",
   "id": "center-chapter",
   "metadata": {
    "tags": []
   },
   "source": [
    "# Categorical Encoding\n"
   ]
  },
  {
   "cell_type": "markdown",
   "id": "ahead-runner",
   "metadata": {
    "tags": []
   },
   "source": [
    "## target column \"y\""
   ]
  },
  {
   "cell_type": "code",
   "execution_count": 13,
   "id": "afec23a4-077f-40be-86dc-87a0ce25f547",
   "metadata": {
    "execution": {
     "iopub.execute_input": "2021-10-29T09:24:10.157190Z",
     "iopub.status.busy": "2021-10-29T09:24:10.156883Z",
     "iopub.status.idle": "2021-10-29T09:24:10.168788Z",
     "shell.execute_reply": "2021-10-29T09:24:10.168193Z",
     "shell.execute_reply.started": "2021-10-29T09:24:10.157165Z"
    },
    "tags": []
   },
   "outputs": [
    {
     "name": "stdout",
     "output_type": "stream",
     "text": [
      "5289\n",
      "39922\n"
     ]
    },
    {
     "data": {
      "text/plain": [
       "0.1324833425179099"
      ]
     },
     "execution_count": 13,
     "metadata": {},
     "output_type": "execute_result"
    }
   ],
   "source": [
    "df[\"y\"].unique()\n",
    "\n",
    "n_positive = len(df[df[\"y\"] == 1]); print(n_positive)\n",
    "\n",
    "n_negative = len(df[df[\"y\"] == 0]); print(n_negative)\n",
    "\n",
    "n_positive / n_negative"
   ]
  },
  {
   "cell_type": "markdown",
   "id": "optional-spanish",
   "metadata": {
    "tags": []
   },
   "source": [
    "# Datasets"
   ]
  },
  {
   "cell_type": "markdown",
   "id": "alive-budget",
   "metadata": {
    "tags": []
   },
   "source": [
    "## Data functions"
   ]
  },
  {
   "cell_type": "code",
   "execution_count": 55,
   "id": "environmental-nebraska",
   "metadata": {
    "execution": {
     "iopub.execute_input": "2021-10-29T11:36:20.913575Z",
     "iopub.status.busy": "2021-10-29T11:36:20.913265Z",
     "iopub.status.idle": "2021-10-29T11:36:20.920317Z",
     "shell.execute_reply": "2021-10-29T11:36:20.919673Z",
     "shell.execute_reply.started": "2021-10-29T11:36:20.913550Z"
    },
    "tags": []
   },
   "outputs": [],
   "source": [
    "def dataframe_to_dataset(df, shuffle=True):\n",
    "    df = df.copy()\n",
    "    if \"duration\" in df.columns:\n",
    "        df = df.drop(\"duration\",axis=1)\n",
    "    labels = df.pop(\"y\") if \"y\" in df.columns else [-1] * len(df)\n",
    "    ds = tf.data.Dataset.from_tensor_slices((dict(df), labels))\n",
    "    if shuffle:\n",
    "        ds = ds.shuffle(buffer_size=len(df))\n",
    "    return ds\n",
    "\n",
    "def encode_numerical_feature(feature, name, dataset):\n",
    "    # Create a Normalization layer for our feature\n",
    "    normalizer = Normalization()\n",
    "\n",
    "    # Prepare a Dataset that only yields our feature\n",
    "    feature_ds = dataset.map(lambda x, y: x[name])\n",
    "    feature_ds = feature_ds.map(lambda x: tf.expand_dims(x, -1))\n",
    "\n",
    "    # Learn the statistics of the data\n",
    "    normalizer.adapt(feature_ds)\n",
    "\n",
    "    # Normalize the input feature\n",
    "    encoded_feature = normalizer(feature)\n",
    "    return encoded_feature\n",
    "\n",
    "\n",
    "def encode_categorical_feature(feature, name, dataset, is_string=False):\n",
    "    lookup_class = StringLookup if is_string else IntegerLookup\n",
    "    # Create a lookup layer which will turn strings into integer indices\n",
    "    lookup = lookup_class(output_mode=\"binary\")\n",
    "\n",
    "    # Prepare a Dataset that only yields our feature\n",
    "    feature_ds = dataset.map(lambda x, y: x[name])\n",
    "    feature_ds = feature_ds.map(lambda x: tf.expand_dims(x, -1))\n",
    "\n",
    "    # Learn the set of possible string values and assign them a fixed integer index\n",
    "    lookup.adapt(feature_ds)\n",
    "\n",
    "    # Turn the string input into integer indices\n",
    "    encoded_feature = lookup(feature)\n",
    "    return encoded_feature\n"
   ]
  },
  {
   "cell_type": "code",
   "execution_count": 15,
   "id": "arranged-helicopter",
   "metadata": {
    "execution": {
     "iopub.execute_input": "2021-10-29T09:28:35.112795Z",
     "iopub.status.busy": "2021-10-29T09:28:35.112481Z",
     "iopub.status.idle": "2021-10-29T09:28:35.118590Z",
     "shell.execute_reply": "2021-10-29T09:28:35.117947Z",
     "shell.execute_reply.started": "2021-10-29T09:28:35.112771Z"
    },
    "tags": []
   },
   "outputs": [],
   "source": [
    "@dataclass\n",
    "class Feature:\n",
    "    name: str\n",
    "    dtyper: str\n",
    "    is_string: bool=False\n",
    "    __input_placeholder: Callable=None\n",
    "        \n",
    "    @property\n",
    "    def input_placeholder(self):\n",
    "        if self.__input_placeholder is None:\n",
    "            self.__input_placeholder = tf.keras.Input(shape=(1,), name=self.name, dtype=self.dtyper)\n",
    "        return self.__input_placeholder\n",
    "    \n",
    "    @property\n",
    "    def encode_func(self):\n",
    "        if self.dtyper==\"string\":\n",
    "            return encode_categorical_feature(self.input_placeholder, self.name, train_ds, True)\n",
    "        elif self.dtyper==\"int64\":\n",
    "            return encode_categorical_feature(self.input_placeholder, self.name, train_ds, False)\n",
    "        elif self.dtyper==\"float32\":\n",
    "            return encode_numerical_feature(self.input_placeholder, self.name, train_ds)\n",
    "        else:\n",
    "            raise AttributeError(f\"Type {self.dtyper} not recognised no valid logic \")\n",
    "        "
   ]
  },
  {
   "cell_type": "markdown",
   "id": "fossil-pharmacy",
   "metadata": {
    "tags": []
   },
   "source": [
    "## Sample balanced proportion of positive and negative for validation"
   ]
  },
  {
   "cell_type": "markdown",
   "id": "blocked-bones",
   "metadata": {},
   "source": [
    "- Ideally don't want to loose 50% of positive class training data but at this stage confirming findings and power of model more important than optim"
   ]
  },
  {
   "cell_type": "code",
   "execution_count": 11,
   "id": "considered-proposal",
   "metadata": {
    "execution": {
     "iopub.execute_input": "2021-10-26T12:27:23.352066Z",
     "iopub.status.busy": "2021-10-26T12:27:23.351659Z",
     "iopub.status.idle": "2021-10-26T12:27:23.358592Z",
     "shell.execute_reply": "2021-10-26T12:27:23.358076Z",
     "shell.execute_reply.started": "2021-10-26T12:27:23.352039Z"
    },
    "tags": []
   },
   "outputs": [],
   "source": [
    "weights = 1 / df.groupby('y')['y'].transform('count')"
   ]
  },
  {
   "cell_type": "raw",
   "id": "apart-theorem",
   "metadata": {
    "execution": {
     "iopub.execute_input": "2021-10-25T16:36:24.598808Z",
     "iopub.status.busy": "2021-10-25T16:36:24.598522Z",
     "iopub.status.idle": "2021-10-25T16:36:24.623201Z",
     "shell.execute_reply": "2021-10-25T16:36:24.622514Z",
     "shell.execute_reply.started": "2021-10-25T16:36:24.598783Z"
    },
    "tags": []
   },
   "source": [
    "validation_df = df.sample(frac=0.1, weights=weights)"
   ]
  },
  {
   "cell_type": "code",
   "execution_count": 16,
   "id": "loving-school",
   "metadata": {
    "execution": {
     "iopub.execute_input": "2021-10-29T09:29:05.432224Z",
     "iopub.status.busy": "2021-10-29T09:29:05.431932Z",
     "iopub.status.idle": "2021-10-29T09:29:05.485475Z",
     "shell.execute_reply": "2021-10-29T09:29:05.484845Z",
     "shell.execute_reply.started": "2021-10-29T09:29:05.432202Z"
    },
    "tags": []
   },
   "outputs": [],
   "source": [
    "validation_df = df.sample(frac=0.05)\n",
    "\n",
    "len(validation_df[validation_df[\"y\"] == 0])\n",
    "\n",
    "len(validation_df[validation_df[\"y\"] == 1])\n",
    "\n",
    "train_df = df.drop(validation_df.index)\n",
    "\n",
    "\n",
    "train_ds = dataframe_to_dataset(train_df)\n",
    "validation_ds = dataframe_to_dataset(validation_df)\n"
   ]
  },
  {
   "cell_type": "markdown",
   "id": "immediate-denver",
   "metadata": {},
   "source": [
    "## Encode the variables"
   ]
  },
  {
   "cell_type": "code",
   "execution_count": 19,
   "id": "graphic-breast",
   "metadata": {
    "execution": {
     "iopub.execute_input": "2021-10-29T09:29:42.289497Z",
     "iopub.status.busy": "2021-10-29T09:29:42.289153Z",
     "iopub.status.idle": "2021-10-29T09:29:42.293154Z",
     "shell.execute_reply": "2021-10-29T09:29:42.292405Z",
     "shell.execute_reply.started": "2021-10-29T09:29:42.289469Z"
    },
    "tags": []
   },
   "outputs": [],
   "source": [
    "feature_names_lookup = {\n",
    "    \"cat_int\":[\"day\",\"job\", \"marital\",\"education\",\"default\",\"housing\", \"loan\", \"contact\", \"month\",\"poutcome\"],\n",
    "    \"numerical_features\":[\"age\", \"balance\",\"campaign\",\"pdays\",\"previous\"]\n",
    "}"
   ]
  },
  {
   "cell_type": "code",
   "execution_count": 20,
   "id": "trying-outside",
   "metadata": {
    "execution": {
     "iopub.execute_input": "2021-10-29T09:29:44.687042Z",
     "iopub.status.busy": "2021-10-29T09:29:44.686690Z",
     "iopub.status.idle": "2021-10-29T09:32:57.403801Z",
     "shell.execute_reply": "2021-10-29T09:32:57.403113Z",
     "shell.execute_reply.started": "2021-10-29T09:29:44.687014Z"
    },
    "tags": []
   },
   "outputs": [
    {
     "name": "stdout",
     "output_type": "stream",
     "text": [
      "CPU times: user 4min 43s, sys: 1min 27s, total: 6min 11s\n",
      "Wall time: 3min 12s\n"
     ]
    }
   ],
   "source": [
    "%%time\n",
    "inputs = []\n",
    "features = []\n",
    "    \n",
    "for feature_cat, feat_name_list in feature_names_lookup.items():\n",
    "    \n",
    "    if feature_cat == \"cat_strings\":\n",
    "        feature_list = [Feature(feat_name,\"string\") for feat_name in feat_name_list]\n",
    "    elif feature_cat == \"cat_int\":\n",
    "        feature_list = [Feature(feat_name,\"int64\") for feat_name in feat_name_list]\n",
    "    else:\n",
    "        feature_list = [Feature(feat_name,\"float32\") for feat_name in feat_name_list]\n",
    "        \n",
    "    inputs.extend([f.input_placeholder for f in feature_list])\n",
    "    features.extend([f.encode_func for f in feature_list])"
   ]
  },
  {
   "cell_type": "markdown",
   "id": "sixth-contract",
   "metadata": {},
   "source": [
    "# Model"
   ]
  },
  {
   "cell_type": "markdown",
   "id": "8e576cc1-85b0-48bb-8727-82b441f7b188",
   "metadata": {},
   "source": [
    "Ridiculously simple baseline model "
   ]
  },
  {
   "cell_type": "code",
   "execution_count": 21,
   "id": "31fbf794-a702-49b3-8373-7df1de2375be",
   "metadata": {
    "execution": {
     "iopub.execute_input": "2021-10-29T09:42:54.174712Z",
     "iopub.status.busy": "2021-10-29T09:42:54.174357Z",
     "iopub.status.idle": "2021-10-29T09:42:54.232533Z",
     "shell.execute_reply": "2021-10-29T09:42:54.231920Z",
     "shell.execute_reply.started": "2021-10-29T09:42:54.174684Z"
    },
    "tags": []
   },
   "outputs": [],
   "source": [
    "all_features = tf.keras.layers.concatenate(features)\n",
    "\n",
    "x = tf.keras.layers.Dense(60, activation=\"relu\")(all_features)\n",
    "x = tf.keras.layers.Dropout(0.5)(x)\n",
    "x = tf.keras.layers.Dense(30, activation=\"relu\")(x)\n",
    "\n",
    "output = tf.keras.layers.Dense(1, activation=\"sigmoid\")(x)\n",
    "\n",
    "model = tf.keras.Model(inputs, output)\n",
    "model.compile(\"adam\", \"binary_crossentropy\", metrics=[tf.keras.metrics.BinaryAccuracy(),\n",
    "                                                     tf.keras.metrics.AUC(),\n",
    "                                                     tf.keras.metrics.Recall(),\n",
    "                                                     tf.keras.metrics.Precision()])"
   ]
  },
  {
   "cell_type": "code",
   "execution_count": 22,
   "id": "unlikely-delicious",
   "metadata": {
    "execution": {
     "iopub.execute_input": "2021-10-29T09:43:34.347383Z",
     "iopub.status.busy": "2021-10-29T09:43:34.347047Z",
     "iopub.status.idle": "2021-10-29T09:43:34.352738Z",
     "shell.execute_reply": "2021-10-29T09:43:34.352084Z",
     "shell.execute_reply.started": "2021-10-29T09:43:34.347356Z"
    },
    "tags": []
   },
   "outputs": [],
   "source": [
    "__train_ds = train_ds.batch(batch_size=70)\n",
    "\n",
    "__validation_ds = validation_ds.batch(batch_size=70)"
   ]
  },
  {
   "cell_type": "code",
   "execution_count": 23,
   "id": "otherwise-ordinary",
   "metadata": {
    "collapsed": true,
    "execution": {
     "iopub.execute_input": "2021-10-29T09:43:36.015960Z",
     "iopub.status.busy": "2021-10-29T09:43:36.015641Z",
     "iopub.status.idle": "2021-10-29T09:44:59.295894Z",
     "shell.execute_reply": "2021-10-29T09:44:59.295253Z",
     "shell.execute_reply.started": "2021-10-29T09:43:36.015935Z"
    },
    "jupyter": {
     "outputs_hidden": true
    },
    "tags": []
   },
   "outputs": [
    {
     "name": "stdout",
     "output_type": "stream",
     "text": [
      "Epoch 1/50\n",
      "614/614 - 3s - loss: 0.3321 - binary_accuracy: 0.8846 - auc: 0.7042 - recall: 0.0570 - precision: 0.5586\n",
      "Epoch 2/50\n",
      "614/614 - 2s - loss: 0.3058 - binary_accuracy: 0.8912 - auc: 0.7585 - recall: 0.1571 - precision: 0.6391\n",
      "Epoch 3/50\n",
      "614/614 - 2s - loss: 0.3006 - binary_accuracy: 0.8924 - auc: 0.7681 - recall: 0.1884 - precision: 0.6321\n",
      "Epoch 4/50\n",
      "614/614 - 2s - loss: 0.2960 - binary_accuracy: 0.8925 - auc: 0.7790 - recall: 0.2000 - precision: 0.6241\n",
      "Epoch 5/50\n",
      "614/614 - 2s - loss: 0.2950 - binary_accuracy: 0.8922 - auc: 0.7801 - recall: 0.2030 - precision: 0.6162 - val_loss: 0.2952 - val_binary_accuracy: 0.8921 - val_auc: 0.8055 - val_recall: 0.2007 - val_precision: 0.6875\n",
      "Epoch 6/50\n",
      "614/614 - 2s - loss: 0.2926 - binary_accuracy: 0.8925 - auc: 0.7852 - recall: 0.2090 - precision: 0.6172\n",
      "Epoch 7/50\n",
      "614/614 - 2s - loss: 0.2898 - binary_accuracy: 0.8942 - auc: 0.7908 - recall: 0.2301 - precision: 0.6275\n",
      "Epoch 8/50\n",
      "614/614 - 2s - loss: 0.2885 - binary_accuracy: 0.8934 - auc: 0.7926 - recall: 0.2293 - precision: 0.6166\n",
      "Epoch 9/50\n",
      "614/614 - 2s - loss: 0.2864 - binary_accuracy: 0.8940 - auc: 0.7985 - recall: 0.2335 - precision: 0.6235\n",
      "Epoch 10/50\n",
      "614/614 - 2s - loss: 0.2859 - binary_accuracy: 0.8945 - auc: 0.7984 - recall: 0.2427 - precision: 0.6235 - val_loss: 0.2892 - val_binary_accuracy: 0.8943 - val_auc: 0.8050 - val_recall: 0.2190 - val_precision: 0.7059\n",
      "Epoch 11/50\n",
      "614/614 - 2s - loss: 0.2853 - binary_accuracy: 0.8949 - auc: 0.8002 - recall: 0.2471 - precision: 0.6267\n",
      "Epoch 12/50\n",
      "614/614 - 2s - loss: 0.2842 - binary_accuracy: 0.8948 - auc: 0.8008 - recall: 0.2493 - precision: 0.6238\n",
      "Epoch 13/50\n",
      "614/614 - 2s - loss: 0.2822 - binary_accuracy: 0.8958 - auc: 0.8046 - recall: 0.2634 - precision: 0.6279\n",
      "Epoch 14/50\n",
      "614/614 - 2s - loss: 0.2811 - binary_accuracy: 0.8956 - auc: 0.8083 - recall: 0.2722 - precision: 0.6207\n",
      "Epoch 15/50\n",
      "614/614 - 2s - loss: 0.2813 - binary_accuracy: 0.8956 - auc: 0.8073 - recall: 0.2594 - precision: 0.6282 - val_loss: 0.2859 - val_binary_accuracy: 0.8934 - val_auc: 0.8041 - val_recall: 0.2883 - val_precision: 0.6320\n",
      "Epoch 16/50\n",
      "614/614 - 2s - loss: 0.2813 - binary_accuracy: 0.8954 - auc: 0.8064 - recall: 0.2706 - precision: 0.6196\n",
      "Epoch 17/50\n",
      "614/614 - 2s - loss: 0.2787 - binary_accuracy: 0.8972 - auc: 0.8104 - recall: 0.2772 - precision: 0.6376\n",
      "Epoch 18/50\n",
      "614/614 - 2s - loss: 0.2792 - binary_accuracy: 0.8954 - auc: 0.8118 - recall: 0.2770 - precision: 0.6157\n",
      "Epoch 19/50\n",
      "614/614 - 2s - loss: 0.2782 - binary_accuracy: 0.8981 - auc: 0.8133 - recall: 0.2875 - precision: 0.6426\n",
      "Epoch 20/50\n",
      "614/614 - 2s - loss: 0.2768 - binary_accuracy: 0.8968 - auc: 0.8156 - recall: 0.2818 - precision: 0.6302 - val_loss: 0.2870 - val_binary_accuracy: 0.8952 - val_auc: 0.7970 - val_recall: 0.2737 - val_precision: 0.6637\n",
      "Epoch 21/50\n",
      "614/614 - 2s - loss: 0.2766 - binary_accuracy: 0.8971 - auc: 0.8154 - recall: 0.2899 - precision: 0.6283\n",
      "Epoch 22/50\n",
      "614/614 - 2s - loss: 0.2775 - binary_accuracy: 0.8977 - auc: 0.8134 - recall: 0.2873 - precision: 0.6379\n",
      "Epoch 23/50\n",
      "614/614 - 2s - loss: 0.2762 - binary_accuracy: 0.8973 - auc: 0.8162 - recall: 0.2853 - precision: 0.6337\n",
      "Epoch 24/50\n",
      "614/614 - 2s - loss: 0.2755 - binary_accuracy: 0.8983 - auc: 0.8166 - recall: 0.2933 - precision: 0.6410\n",
      "Epoch 25/50\n",
      "614/614 - 2s - loss: 0.2744 - binary_accuracy: 0.8980 - auc: 0.8201 - recall: 0.2915 - precision: 0.6379 - val_loss: 0.2882 - val_binary_accuracy: 0.8925 - val_auc: 0.7937 - val_recall: 0.3212 - val_precision: 0.6069\n",
      "Epoch 26/50\n",
      "614/614 - 2s - loss: 0.2735 - binary_accuracy: 0.8987 - auc: 0.8191 - recall: 0.3113 - precision: 0.6351\n",
      "Epoch 27/50\n",
      "614/614 - 2s - loss: 0.2725 - binary_accuracy: 0.8985 - auc: 0.8212 - recall: 0.3099 - precision: 0.6338\n",
      "Epoch 28/50\n",
      "614/614 - 2s - loss: 0.2733 - binary_accuracy: 0.8991 - auc: 0.8219 - recall: 0.3061 - precision: 0.6425\n",
      "Epoch 29/50\n",
      "614/614 - 2s - loss: 0.2722 - binary_accuracy: 0.8998 - auc: 0.8206 - recall: 0.3081 - precision: 0.6497\n",
      "Epoch 30/50\n",
      "614/614 - 2s - loss: 0.2724 - binary_accuracy: 0.8986 - auc: 0.8226 - recall: 0.3071 - precision: 0.6366 - val_loss: 0.2903 - val_binary_accuracy: 0.8921 - val_auc: 0.7866 - val_recall: 0.2847 - val_precision: 0.6190\n",
      "Epoch 31/50\n",
      "614/614 - 2s - loss: 0.2714 - binary_accuracy: 0.8993 - auc: 0.8232 - recall: 0.3083 - precision: 0.6439\n",
      "Epoch 32/50\n",
      "614/614 - 2s - loss: 0.2717 - binary_accuracy: 0.8994 - auc: 0.8223 - recall: 0.3214 - precision: 0.6369\n",
      "Epoch 33/50\n",
      "614/614 - 2s - loss: 0.2720 - binary_accuracy: 0.8998 - auc: 0.8220 - recall: 0.3111 - precision: 0.6473\n",
      "Epoch 34/50\n",
      "614/614 - 2s - loss: 0.2711 - binary_accuracy: 0.9004 - auc: 0.8236 - recall: 0.3200 - precision: 0.6490\n",
      "Epoch 35/50\n",
      "614/614 - 2s - loss: 0.2714 - binary_accuracy: 0.8998 - auc: 0.8256 - recall: 0.3109 - precision: 0.6474 - val_loss: 0.2880 - val_binary_accuracy: 0.8934 - val_auc: 0.7952 - val_recall: 0.2701 - val_precision: 0.6435\n",
      "Epoch 36/50\n",
      "614/614 - 2s - loss: 0.2697 - binary_accuracy: 0.9006 - auc: 0.8262 - recall: 0.3196 - precision: 0.6514\n",
      "Epoch 37/50\n",
      "614/614 - 2s - loss: 0.2697 - binary_accuracy: 0.8999 - auc: 0.8269 - recall: 0.3196 - precision: 0.6440\n",
      "Epoch 38/50\n",
      "614/614 - 2s - loss: 0.2701 - binary_accuracy: 0.9012 - auc: 0.8246 - recall: 0.3252 - precision: 0.6550\n",
      "Epoch 39/50\n",
      "614/614 - 2s - loss: 0.2692 - binary_accuracy: 0.9010 - auc: 0.8267 - recall: 0.3155 - precision: 0.6592\n",
      "Epoch 40/50\n",
      "614/614 - 2s - loss: 0.2686 - binary_accuracy: 0.9010 - auc: 0.8284 - recall: 0.3302 - precision: 0.6492 - val_loss: 0.2878 - val_binary_accuracy: 0.8916 - val_auc: 0.7977 - val_recall: 0.2701 - val_precision: 0.6218\n",
      "Epoch 41/50\n",
      "614/614 - 2s - loss: 0.2684 - binary_accuracy: 0.9012 - auc: 0.8291 - recall: 0.3296 - precision: 0.6521\n",
      "Epoch 42/50\n",
      "614/614 - 2s - loss: 0.2673 - binary_accuracy: 0.9018 - auc: 0.8300 - recall: 0.3306 - precision: 0.6585\n",
      "Epoch 43/50\n",
      "614/614 - 2s - loss: 0.2680 - binary_accuracy: 0.9016 - auc: 0.8290 - recall: 0.3174 - precision: 0.6650\n",
      "Epoch 44/50\n",
      "614/614 - 2s - loss: 0.2683 - binary_accuracy: 0.9007 - auc: 0.8303 - recall: 0.3254 - precision: 0.6486\n",
      "Epoch 45/50\n",
      "614/614 - 2s - loss: 0.2686 - binary_accuracy: 0.9012 - auc: 0.8268 - recall: 0.3204 - precision: 0.6581 - val_loss: 0.2908 - val_binary_accuracy: 0.8930 - val_auc: 0.7917 - val_recall: 0.2701 - val_precision: 0.6379\n",
      "Epoch 46/50\n",
      "614/614 - 2s - loss: 0.2680 - binary_accuracy: 0.9013 - auc: 0.8290 - recall: 0.3216 - precision: 0.6578\n",
      "Epoch 47/50\n",
      "614/614 - 2s - loss: 0.2680 - binary_accuracy: 0.9008 - auc: 0.8286 - recall: 0.3264 - precision: 0.6501\n",
      "Epoch 48/50\n",
      "614/614 - 2s - loss: 0.2661 - binary_accuracy: 0.9022 - auc: 0.8317 - recall: 0.3326 - precision: 0.6616\n",
      "Epoch 49/50\n",
      "614/614 - 2s - loss: 0.2667 - binary_accuracy: 0.9016 - auc: 0.8310 - recall: 0.3312 - precision: 0.6560\n",
      "Epoch 50/50\n",
      "614/614 - 2s - loss: 0.2660 - binary_accuracy: 0.9020 - auc: 0.8325 - recall: 0.3344 - precision: 0.6576 - val_loss: 0.2909 - val_binary_accuracy: 0.8921 - val_auc: 0.7889 - val_recall: 0.2518 - val_precision: 0.6389\n"
     ]
    },
    {
     "data": {
      "text/plain": [
       "<keras.callbacks.History at 0x7fa0f479d700>"
      ]
     },
     "execution_count": 23,
     "metadata": {},
     "output_type": "execute_result"
    }
   ],
   "source": [
    "model.fit(__train_ds, epochs=50, validation_data=__validation_ds, validation_freq=5, verbose=2)"
   ]
  },
  {
   "cell_type": "markdown",
   "id": "c384fb85-a7af-446a-9fe5-698c002b6c66",
   "metadata": {},
   "source": [
    "## Save to disk"
   ]
  },
  {
   "cell_type": "code",
   "execution_count": 25,
   "id": "3a6ad338-cfbd-4316-b58a-fb6d9c63875b",
   "metadata": {
    "execution": {
     "iopub.execute_input": "2021-10-29T09:55:00.920264Z",
     "iopub.status.busy": "2021-10-29T09:55:00.919976Z",
     "iopub.status.idle": "2021-10-29T09:55:03.473049Z",
     "shell.execute_reply": "2021-10-29T09:55:03.472312Z",
     "shell.execute_reply.started": "2021-10-29T09:55:00.920242Z"
    },
    "tags": []
   },
   "outputs": [
    {
     "name": "stdout",
     "output_type": "stream",
     "text": [
      "INFO:tensorflow:Assets written to: server_api/simple_bank_model.model/assets\n"
     ]
    }
   ],
   "source": [
    "model.save(\"simple_bank_model.model\")"
   ]
  },
  {
   "cell_type": "code",
   "execution_count": 26,
   "id": "vulnerable-trustee",
   "metadata": {
    "execution": {
     "iopub.execute_input": "2021-10-29T11:21:32.829704Z",
     "iopub.status.busy": "2021-10-29T11:21:32.829420Z",
     "iopub.status.idle": "2021-10-29T11:21:32.833742Z",
     "shell.execute_reply": "2021-10-29T11:21:32.833050Z",
     "shell.execute_reply.started": "2021-10-29T11:21:32.829683Z"
    },
    "tags": []
   },
   "outputs": [],
   "source": [
    "test = df.iloc[:2]"
   ]
  },
  {
   "cell_type": "code",
   "execution_count": 30,
   "id": "hazardous-nepal",
   "metadata": {
    "execution": {
     "iopub.execute_input": "2021-10-29T11:22:13.044559Z",
     "iopub.status.busy": "2021-10-29T11:22:13.044274Z",
     "iopub.status.idle": "2021-10-29T11:22:13.048679Z",
     "shell.execute_reply": "2021-10-29T11:22:13.047948Z",
     "shell.execute_reply.started": "2021-10-29T11:22:13.044539Z"
    },
    "tags": []
   },
   "outputs": [],
   "source": [
    "test = test.drop([\"y\", \"duration\"],axis=1)"
   ]
  },
  {
   "cell_type": "code",
   "execution_count": 85,
   "id": "2ef32616-5c0a-4c59-8e36-684c0236d332",
   "metadata": {
    "execution": {
     "iopub.execute_input": "2021-11-03T21:40:36.602558Z",
     "iopub.status.busy": "2021-11-03T21:40:36.602263Z",
     "iopub.status.idle": "2021-11-03T21:40:36.646784Z",
     "shell.execute_reply": "2021-11-03T21:40:36.646185Z",
     "shell.execute_reply.started": "2021-11-03T21:40:36.602534Z"
    },
    "tags": []
   },
   "outputs": [
    {
     "data": {
      "text/plain": [
       "array([0.05408671, 0.04288122], dtype=float32)"
      ]
     },
     "execution_count": 85,
     "metadata": {},
     "output_type": "execute_result"
    }
   ],
   "source": [
    "test_ds = dataframe_to_dataset(test, shuffle=False)\n",
    "test_ds = test_ds.batch(70)\n",
    "\n",
    "\n",
    "preds = model.predict(test_ds)\n",
    "preds = preds.ravel()\n",
    "\n",
    "preds"
   ]
  },
  {
   "cell_type": "markdown",
   "id": "f301bee9-2bcb-47d1-9f04-49f5d9e28b48",
   "metadata": {},
   "source": [
    "# Validate model reloads"
   ]
  },
  {
   "cell_type": "code",
   "execution_count": 76,
   "id": "7c1ddf30-4267-4249-8976-ba6c8c907ce4",
   "metadata": {
    "execution": {
     "iopub.execute_input": "2021-10-29T12:16:57.356177Z",
     "iopub.status.busy": "2021-10-29T12:16:57.355872Z",
     "iopub.status.idle": "2021-10-29T12:16:57.361643Z",
     "shell.execute_reply": "2021-10-29T12:16:57.360949Z",
     "shell.execute_reply.started": "2021-10-29T12:16:57.356157Z"
    },
    "tags": []
   },
   "outputs": [],
   "source": [
    "from server_api import prediction_model"
   ]
  },
  {
   "cell_type": "code",
   "execution_count": 80,
   "id": "c8d9b971-939f-49bd-b054-6aa95b035964",
   "metadata": {
    "execution": {
     "iopub.execute_input": "2021-10-29T12:19:16.133799Z",
     "iopub.status.busy": "2021-10-29T12:19:16.133516Z",
     "iopub.status.idle": "2021-10-29T12:19:17.673331Z",
     "shell.execute_reply": "2021-10-29T12:19:17.672629Z",
     "shell.execute_reply.started": "2021-10-29T12:19:16.133773Z"
    },
    "tags": []
   },
   "outputs": [
    {
     "data": {
      "text/plain": [
       "array([0.05408671, 0.04288122], dtype=float32)"
      ]
     },
     "execution_count": 80,
     "metadata": {},
     "output_type": "execute_result"
    }
   ],
   "source": [
    "reload(prediction_model)\n",
    "prediction_model.predict_liklihood(test)"
   ]
  }
 ],
 "metadata": {
  "kernelspec": {
   "display_name": "Python [conda env:py38]",
   "language": "python",
   "name": "conda-env-py38-py"
  },
  "language_info": {
   "codemirror_mode": {
    "name": "ipython",
    "version": 3
   },
   "file_extension": ".py",
   "mimetype": "text/x-python",
   "name": "python",
   "nbconvert_exporter": "python",
   "pygments_lexer": "ipython3",
   "version": "3.8.8"
  }
 },
 "nbformat": 4,
 "nbformat_minor": 5
}
